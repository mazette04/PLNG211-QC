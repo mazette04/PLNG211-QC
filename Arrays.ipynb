{
  "nbformat": 4,
  "nbformat_minor": 0,
  "metadata": {
    "colab": {
      "provenance": [],
      "authorship_tag": "ABX9TyM/e71kFkuBlINpuMB0Bpnd",
      "include_colab_link": true
    },
    "kernelspec": {
      "name": "python3",
      "display_name": "Python 3"
    },
    "language_info": {
      "name": "python"
    }
  },
  "cells": [
    {
      "cell_type": "markdown",
      "metadata": {
        "id": "view-in-github",
        "colab_type": "text"
      },
      "source": [
        "<a href=\"https://colab.research.google.com/github/mazette04/PLNG211-QC/blob/main/Arrays.ipynb\" target=\"_parent\"><img src=\"https://colab.research.google.com/assets/colab-badge.svg\" alt=\"Open In Colab\"/></a>"
      ]
    },
    {
      "cell_type": "code",
      "execution_count": 4,
      "metadata": {
        "colab": {
          "base_uri": "https://localhost:8080/"
        },
        "id": "M4YnOr9J5PPD",
        "outputId": "a5b2ff54-7f76-40b9-db33-1760f0544953"
      },
      "outputs": [
        {
          "output_type": "stream",
          "name": "stdout",
          "text": [
            "The animals are: ['cat', 'dog', 'fish']\n",
            "The animal in the first list is cat\n"
          ]
        }
      ],
      "source": [
        "#Accessing the elements in the array\n",
        "animals = ['cat','dog','fish']\n",
        "print('The animals are:',animals)\n",
        "print('The animal in the first list is',animals[0])"
      ]
    },
    {
      "cell_type": "code",
      "source": [
        "#Modifying the element/s in the array\n",
        "animals = ['cat','dog','fish']\n",
        "animals[0] = 'monkey'\n",
        "print(animals)"
      ],
      "metadata": {
        "colab": {
          "base_uri": "https://localhost:8080/"
        },
        "id": "PDXdjXua6qZW",
        "outputId": "fbdb539b-2ad6-4ed2-ec1f-3410d9083c86"
      },
      "execution_count": 5,
      "outputs": [
        {
          "output_type": "stream",
          "name": "stdout",
          "text": [
            "['monkey', 'dog', 'fish']\n"
          ]
        }
      ]
    },
    {
      "cell_type": "code",
      "source": [
        "#Length of the array\n",
        "animals = ['cat','dog','fish']\n",
        "x = len(animals)\n",
        "print(x)"
      ],
      "metadata": {
        "colab": {
          "base_uri": "https://localhost:8080/"
        },
        "id": "T7xfHVBJ7GWE",
        "outputId": "26bdcf1b-01a0-46d2-c2c0-42c42549b725"
      },
      "execution_count": 6,
      "outputs": [
        {
          "output_type": "stream",
          "name": "stdout",
          "text": [
            "3\n"
          ]
        }
      ]
    },
    {
      "cell_type": "code",
      "source": [
        "#Looping Array Elements\n",
        "animals = ['cat','dog','fish']\n",
        "for x in animals:\n",
        "  print(x)"
      ],
      "metadata": {
        "colab": {
          "base_uri": "https://localhost:8080/"
        },
        "id": "w-TwMDV57bDn",
        "outputId": "5f34f279-47a1-42d0-92d4-a1a95dc75c31"
      },
      "execution_count": 8,
      "outputs": [
        {
          "output_type": "stream",
          "name": "stdout",
          "text": [
            "cat\n",
            "dog\n",
            "fish\n"
          ]
        }
      ]
    },
    {
      "cell_type": "code",
      "source": [
        "#Adding elements in the last list of an array\n",
        "animals = ['cat','dog','fish']\n",
        "animals.insert(1,'monkey')\n",
        "print(animals)\n",
        "#append\n",
        "animals.append('bird')\n",
        "print(animals)"
      ],
      "metadata": {
        "colab": {
          "base_uri": "https://localhost:8080/"
        },
        "id": "JioHM_Jw7xZX",
        "outputId": "cc7327bb-2cc3-4b81-deda-0390f5e2f2e1"
      },
      "execution_count": 16,
      "outputs": [
        {
          "output_type": "stream",
          "name": "stdout",
          "text": [
            "['cat', 'monkey', 'dog', 'fish']\n",
            "['cat', 'monkey', 'dog', 'fish', 'bird']\n"
          ]
        }
      ]
    },
    {
      "cell_type": "code",
      "source": [
        "#Removing\n",
        "animals.pop(3)\n",
        "print(animals)"
      ],
      "metadata": {
        "colab": {
          "base_uri": "https://localhost:8080/"
        },
        "id": "JtgkAmmy8crr",
        "outputId": "33c79ef5-aa5d-4b58-888d-09cac2571a76"
      },
      "execution_count": 15,
      "outputs": [
        {
          "output_type": "stream",
          "name": "stdout",
          "text": [
            "['cat', 'monkey', 'dog', 'bird']\n"
          ]
        }
      ]
    }
  ]
}