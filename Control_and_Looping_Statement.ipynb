{
  "nbformat": 4,
  "nbformat_minor": 0,
  "metadata": {
    "colab": {
      "provenance": [],
      "authorship_tag": "ABX9TyMZmjes/FheAbyYAyC19hWK",
      "include_colab_link": true
    },
    "kernelspec": {
      "name": "python3",
      "display_name": "Python 3"
    },
    "language_info": {
      "name": "python"
    }
  },
  "cells": [
    {
      "cell_type": "markdown",
      "metadata": {
        "id": "view-in-github",
        "colab_type": "text"
      },
      "source": [
        "<a href=\"https://colab.research.google.com/github/mazette04/PLNG211-QC/blob/main/Control_and_Looping_Statement.ipynb\" target=\"_parent\"><img src=\"https://colab.research.google.com/assets/colab-badge.svg\" alt=\"Open In Colab\"/></a>"
      ]
    },
    {
      "cell_type": "code",
      "execution_count": 9,
      "metadata": {
        "id": "KQUj-ZCS2vlu"
      },
      "outputs": [],
      "source": [
        "#If Statement\n",
        "\n",
        "a =100\n",
        "b= 100\n",
        "\n",
        "if a<b:\n",
        "  print(\"a is less than b\")"
      ]
    },
    {
      "cell_type": "code",
      "source": [
        "#Elif Statement\n",
        "if a<b:\n",
        "  print('a is less than b')\n",
        "elif a>b:\n",
        "  print(\"a is greater than b\")"
      ],
      "metadata": {
        "id": "wLaNpvt03Vi3"
      },
      "execution_count": 10,
      "outputs": []
    },
    {
      "cell_type": "code",
      "source": [
        "if a<b:\n",
        "  print('a is less than b')\n",
        "elif a>b:\n",
        "  print(\"a is greater than b\")\n",
        "else:\n",
        "  print('a is equal to b')"
      ],
      "metadata": {
        "colab": {
          "base_uri": "https://localhost:8080/"
        },
        "id": "z8iysCH23_uY",
        "outputId": "6012bf60-7e77-4b81-de73-77f062ec01ba"
      },
      "execution_count": 11,
      "outputs": [
        {
          "output_type": "stream",
          "name": "stdout",
          "text": [
            "a is equal to b\n"
          ]
        }
      ]
    },
    {
      "cell_type": "code",
      "source": [
        "#Short Hand If Statement\n",
        "\n",
        "c = 5\n",
        "d = 10\n",
        "\n",
        "if c>d: print(\"c>d\")"
      ],
      "metadata": {
        "id": "P_twjCVC4lDk"
      },
      "execution_count": 14,
      "outputs": []
    },
    {
      "cell_type": "code",
      "source": [
        "#Short Hand If.. Else Statement\n",
        "print('c>d') if c>d else print('d>c')"
      ],
      "metadata": {
        "colab": {
          "base_uri": "https://localhost:8080/"
        },
        "id": "uhMJoazg5DRd",
        "outputId": "eb73c529-2043-45e3-e863-38432a549bcf"
      },
      "execution_count": 15,
      "outputs": [
        {
          "output_type": "stream",
          "name": "stdout",
          "text": [
            "d>c\n"
          ]
        }
      ]
    },
    {
      "cell_type": "code",
      "source": [
        "#And Statement\n",
        "if 5>10 and 8>4:\n",
        "  print(\"both statements are true\")\n",
        "else:\n",
        "  print(\"one of the statements is false /both statements are not true\")\n"
      ],
      "metadata": {
        "colab": {
          "base_uri": "https://localhost:8080/"
        },
        "id": "Ds0ZVLuv6NCk",
        "outputId": "1ae118b9-426b-4ce5-9f4a-024751ac4f81"
      },
      "execution_count": 17,
      "outputs": [
        {
          "output_type": "stream",
          "name": "stdout",
          "text": [
            "one of the statements is false /both statements are not true\n"
          ]
        }
      ]
    },
    {
      "cell_type": "code",
      "source": [
        "#Or Statement\n",
        "if 5>10 or 4 >8:\n",
        "  print('True')\n",
        "else:\n",
        "  print('False')"
      ],
      "metadata": {
        "colab": {
          "base_uri": "https://localhost:8080/"
        },
        "id": "sVjVEOPO65l_",
        "outputId": "b441338c-ae97-4b4b-cf53-62346129897b"
      },
      "execution_count": 19,
      "outputs": [
        {
          "output_type": "stream",
          "name": "stdout",
          "text": [
            "False\n"
          ]
        }
      ]
    },
    {
      "cell_type": "code",
      "source": [
        "#Bitwise operator ^ (xor)\n",
        "e=4     #0100 in binary\n",
        "f= 2    #0010 in binary\n",
        "\n",
        "e^f \n"
      ],
      "metadata": {
        "colab": {
          "base_uri": "https://localhost:8080/"
        },
        "id": "OOv11KFl7r8y",
        "outputId": "1894347e-7285-4348-d666-d1352cf1a92e"
      },
      "execution_count": 20,
      "outputs": [
        {
          "output_type": "execute_result",
          "data": {
            "text/plain": [
              "6"
            ]
          },
          "metadata": {},
          "execution_count": 20
        }
      ]
    },
    {
      "cell_type": "code",
      "source": [
        "#Nested If Statement\n",
        "\n",
        "x = 39\n",
        "if x>10:\n",
        "  print(\"number is above 10\")\n",
        "  if x>20:\n",
        "    print(\"number is above 20\")\n",
        "    if x>30:\n",
        "      print(\"number is above 30\")\n",
        "      if x>40:\n",
        "        print(\"number is above 40\")\n",
        "        if x>50:\n",
        "          print(\"number is above 50\")\n",
        "        else:\n",
        "          print(\"number is less than 50\")\n",
        "      else:\n",
        "        print(\"number is less than 40\")"
      ],
      "metadata": {
        "colab": {
          "base_uri": "https://localhost:8080/"
        },
        "id": "SN7dvJFM9gIo",
        "outputId": "2977beb5-dd18-4cb4-b5f3-566c24dbebcb"
      },
      "execution_count": 24,
      "outputs": [
        {
          "output_type": "stream",
          "name": "stdout",
          "text": [
            "number is above 10\n",
            "number is above 20\n",
            "number is above 30\n",
            "number is less than 40\n"
          ]
        }
      ]
    },
    {
      "cell_type": "code",
      "source": [
        "#Application 1.Write a program that determines if the input age is qualified to vote or not. \n",
        "#The qualifying age is 18 years old and above.\n"
      ],
      "metadata": {
        "id": "T4OSAhS9_MZJ"
      },
      "execution_count": null,
      "outputs": []
    },
    {
      "cell_type": "code",
      "source": [
        "#Application 2. Write a program that determines if the input number is POSITIVE, NEGATIVE, or Zero. "
      ],
      "metadata": {
        "id": "0w6eLDfzB9QV"
      },
      "execution_count": null,
      "outputs": []
    },
    {
      "cell_type": "code",
      "source": [
        "#For loop Statement\n",
        "week = [\"Sunday\", \"Monday\",\"Tuesday\",\"Wednesday\", \"Thursday\", \"Friday\", \"Saturday\"]\n",
        "\n",
        "for y in week:\n",
        "  print(y)"
      ],
      "metadata": {
        "colab": {
          "base_uri": "https://localhost:8080/"
        },
        "id": "lERezxtLCAHF",
        "outputId": "cf41f339-90bc-4ff7-908c-087f4ab6fcb8"
      },
      "execution_count": 25,
      "outputs": [
        {
          "output_type": "stream",
          "name": "stdout",
          "text": [
            "Sunday\n",
            "Monday\n",
            "Tuesday\n",
            "Wednesday\n",
            "Thursday\n",
            "Friday\n",
            "Saturday\n"
          ]
        }
      ]
    },
    {
      "cell_type": "code",
      "source": [
        "week = [\"Sunday\", \"Monday\",\"Tuesday\",\"Wednesday\", \"Thursday\", \"Friday\", \"Saturday\"]\n",
        "\n",
        "for y in week:\n",
        "  print(y)\n",
        "  if y == \"Thursday\":\n",
        "    break"
      ],
      "metadata": {
        "colab": {
          "base_uri": "https://localhost:8080/"
        },
        "id": "XeShhCufDrSr",
        "outputId": "1cac45f1-d0f2-41dd-8cd4-bded11ad5ba9"
      },
      "execution_count": 26,
      "outputs": [
        {
          "output_type": "stream",
          "name": "stdout",
          "text": [
            "Sunday\n",
            "Monday\n",
            "Tuesday\n",
            "Wednesday\n",
            "Thursday\n"
          ]
        }
      ]
    },
    {
      "cell_type": "code",
      "source": [
        "week = [\"Sunday\", \"Monday\",\"Tuesday\",\"Wednesday\", \"Thursday\", \"Friday\", \"Saturday\"]\n",
        "\n",
        "for y in week:\n",
        "  if y == \"Thursday\":\n",
        "    break\n",
        "  print(y)"
      ],
      "metadata": {
        "colab": {
          "base_uri": "https://localhost:8080/"
        },
        "id": "IS_hUe7_D0YT",
        "outputId": "3cb7faee-f420-4a69-b978-150436119274"
      },
      "execution_count": 27,
      "outputs": [
        {
          "output_type": "stream",
          "name": "stdout",
          "text": [
            "Sunday\n",
            "Monday\n",
            "Tuesday\n",
            "Wednesday\n"
          ]
        }
      ]
    },
    {
      "cell_type": "code",
      "source": [
        "for x in \"week\":\n",
        "  print(x)"
      ],
      "metadata": {
        "colab": {
          "base_uri": "https://localhost:8080/"
        },
        "id": "Wlp1bzXmCsYE",
        "outputId": "71ddf40f-0f1c-4c35-8db2-ee7362c40d41"
      },
      "execution_count": 28,
      "outputs": [
        {
          "output_type": "stream",
          "name": "stdout",
          "text": [
            "w\n",
            "e\n",
            "e\n",
            "k\n"
          ]
        }
      ]
    },
    {
      "cell_type": "code",
      "source": [
        "#range () function\n",
        "for x in range(6):\n",
        "  print(x)\n",
        "  "
      ],
      "metadata": {
        "colab": {
          "base_uri": "https://localhost:8080/"
        },
        "id": "CfvgYTDcFGVA",
        "outputId": "5570cb29-da8c-451d-ae51-a2cdbd16f66f"
      },
      "execution_count": 29,
      "outputs": [
        {
          "output_type": "stream",
          "name": "stdout",
          "text": [
            "0\n",
            "1\n",
            "2\n",
            "3\n",
            "4\n",
            "5\n"
          ]
        }
      ]
    },
    {
      "cell_type": "code",
      "source": [
        "for x in range(2,6+1,1):\n",
        "  print(x)"
      ],
      "metadata": {
        "colab": {
          "base_uri": "https://localhost:8080/"
        },
        "id": "8NgUgfcdFSpo",
        "outputId": "ff8044a4-51c2-4d87-c072-b04ca0649f7f"
      },
      "execution_count": 35,
      "outputs": [
        {
          "output_type": "stream",
          "name": "stdout",
          "text": [
            "2\n",
            "3\n",
            "4\n",
            "5\n",
            "6\n"
          ]
        }
      ]
    },
    {
      "cell_type": "code",
      "source": [
        "adjective = [\"red\", \"big\", \"tasty\"]\n",
        "fruits = [\"apple\", \"banana\",\"cherry\"]\n",
        "for x in adjective:\n",
        "  for y in fruits:\n",
        "    print(x,y)"
      ],
      "metadata": {
        "colab": {
          "base_uri": "https://localhost:8080/"
        },
        "id": "wHSFDLCNGnch",
        "outputId": "7521d7dd-e464-4e76-db99-3a7bd4108f63"
      },
      "execution_count": 36,
      "outputs": [
        {
          "output_type": "stream",
          "name": "stdout",
          "text": [
            "red apple\n",
            "red banana\n",
            "red cherry\n",
            "big apple\n",
            "big banana\n",
            "big cherry\n",
            "tasty apple\n",
            "tasty banana\n",
            "tasty cherry\n"
          ]
        }
      ]
    },
    {
      "cell_type": "code",
      "source": [
        "i = 1\n",
        "while i<=6:\n",
        "  print(i)\n",
        "  i+=1     #i = i +1"
      ],
      "metadata": {
        "colab": {
          "base_uri": "https://localhost:8080/"
        },
        "id": "7wqJKjqKHUzj",
        "outputId": "acf7089e-0ef8-4eff-fe05-42124c8e2837"
      },
      "execution_count": 38,
      "outputs": [
        {
          "output_type": "stream",
          "name": "stdout",
          "text": [
            "1\n",
            "2\n",
            "3\n",
            "4\n",
            "5\n",
            "6\n"
          ]
        }
      ]
    },
    {
      "cell_type": "code",
      "source": [
        "i = 1\n",
        "while i<=6:\n",
        "  print(i)\n",
        "  if i ==3:\n",
        "    break\n",
        "  i+=1"
      ],
      "metadata": {
        "colab": {
          "base_uri": "https://localhost:8080/"
        },
        "id": "cMbWYUtBIFMK",
        "outputId": "1511c4c3-6092-48b4-8ad4-b38b3e1c76d8"
      },
      "execution_count": 39,
      "outputs": [
        {
          "output_type": "stream",
          "name": "stdout",
          "text": [
            "1\n",
            "2\n",
            "3\n"
          ]
        }
      ]
    },
    {
      "cell_type": "code",
      "source": [
        "# using while loop and break statement, the output is only 3"
      ],
      "metadata": {
        "id": "CRVD4JFJIcDi"
      },
      "execution_count": null,
      "outputs": []
    }
  ]
}